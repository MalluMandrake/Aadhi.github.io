{
 "cells": [
  {
   "cell_type": "code",
   "execution_count": 19,
   "metadata": {},
   "outputs": [],
   "source": [
    "import pandas as pd\n",
    "import numpy as np\n",
    "from sklearn.model_selection import train_test_split\n",
    "from sklearn.metrics import classification_report\n",
    "import json\n",
    "import pickle\n",
    "from sklearn.tree import DecisionTreeClassifier\n",
    "from sklearn.naive_bayes import GaussianNB\n",
    "from sklearn.neighbors import KNeighborsClassifier\n",
    "data = pd.read_csv('trainig_data/customer_segmentation_train.csv')"
   ]
  },
  {
   "cell_type": "code",
   "execution_count": 20,
   "metadata": {},
   "outputs": [
    {
     "name": "stdout",
     "output_type": "stream",
     "text": [
      "Data Loading Done . . . . !\n",
      "Data Preprocessing Done . . . . !\n"
     ]
    }
   ],
   "source": [
    "\n",
    "print(\"Data Loading Done . . . . !\")\n",
    "\n",
    "#preprocessig\n",
    "y = data['class'].values # depenenet\n",
    "data.drop(['labels', 'class'], axis=1,inplace=True)\n",
    "X=data.values #indep\n",
    "print(\"Data Preprocessing Done . . . . !\")"
   ]
  },
  {
   "cell_type": "code",
   "execution_count": 21,
   "metadata": {},
   "outputs": [],
   "source": [
    "#split data for training anbd testing\n",
    "X_train, X_test, y_train, y_test = train_test_split(X, y, test_size=0.30)\n"
   ]
  },
  {
   "cell_type": "code",
   "execution_count": 24,
   "metadata": {},
   "outputs": [
    {
     "name": "stdout",
     "output_type": "stream",
     "text": [
      "Accuracy score of decisiontree 93.90808692554329 \n",
      "Accuracy score of KNeighborsClassifier 59.38724617028856 \n",
      "Accuracy score of naive_bayes 88.1011756323477 \n",
      "\n",
      " \n",
      "Classification report of Decisiontree \n",
      "                   precision    recall  f1-score   support\n",
      "\n",
      " beauty_concious       0.92      0.95      0.94        64\n",
      "    drink_buyers       0.92      0.94      0.93       337\n",
      "  fresh_regulars       0.95      0.96      0.95       563\n",
      "grocery_regulars       0.94      0.93      0.94       919\n",
      "grocery_shoppers       1.00      0.98      0.99       129\n",
      " health_concious       0.93      0.95      0.94        42\n",
      " home_decorators       0.89      0.93      0.91       247\n",
      "          loyals       0.92      0.93      0.93       169\n",
      "     new_parents       0.96      0.92      0.94       315\n",
      "      pet_lovers       0.79      1.00      0.88        22\n",
      "\n",
      "        accuracy                           0.94      2807\n",
      "       macro avg       0.92      0.95      0.93      2807\n",
      "    weighted avg       0.94      0.94      0.94      2807\n",
      "\n"
     ]
    }
   ],
   "source": [
    "\n",
    "\n",
    "model=DecisionTreeClassifier()\n",
    "model.fit(X_train,y_train) #TRAIN \n",
    "model_score = model.score(X_test, y_test)#TEST\n",
    "y_pred=model.predict(X_test)\n",
    "pickle.dump(model,open('depend_files/'+'decisiontree'+'.pkl','wb'))  \n",
    "print(\"Accuracy score of {} {} \".format('decisiontree',model_score*100)) \n",
    "\n",
    "kn_model=KNeighborsClassifier()\n",
    "kn_model.fit(X_train,y_train) #TRAIN \n",
    "model_score = kn_model.score(X_test, y_test)#TEST\n",
    "print(\"Accuracy score of {} {} \".format('KNeighborsClassifier',model_score*100))  \n",
    "\n",
    "navi_model=GaussianNB()\n",
    "navi_model.fit(X_train,y_train) #TRAIN \n",
    "model_score = navi_model.score(X_test, y_test)#TEST\n",
    "print(\"Accuracy score of {} {} \".format('naive_bayes',model_score*100))  \n",
    "print(\"\\n \")\n",
    "print(\"Classification report of Decisiontree \\n\",classification_report(y_pred,y_test))\n"
   ]
  },
  {
   "cell_type": "code",
   "execution_count": null,
   "metadata": {},
   "outputs": [],
   "source": []
  }
 ],
 "metadata": {
  "kernelspec": {
   "display_name": "Python 3.8.8 ('base')",
   "language": "python",
   "name": "python3"
  },
  "language_info": {
   "codemirror_mode": {
    "name": "ipython",
    "version": 3
   },
   "file_extension": ".py",
   "mimetype": "text/x-python",
   "name": "python",
   "nbconvert_exporter": "python",
   "pygments_lexer": "ipython3",
   "version": "3.8.8"
  },
  "orig_nbformat": 4,
  "vscode": {
   "interpreter": {
    "hash": "36d2eb2e89c8abc5fe7eeceac3dc8c7039c466f0801be01aa0ce8b8a24498a49"
   }
  }
 },
 "nbformat": 4,
 "nbformat_minor": 2
}
